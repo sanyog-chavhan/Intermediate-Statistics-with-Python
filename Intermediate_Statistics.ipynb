{
  "nbformat": 4,
  "nbformat_minor": 0,
  "metadata": {
    "colab": {
      "provenance": [],
      "mount_file_id": "1PX493fAYwJ0MsQuDtuxHrTByMFhmCZ1n",
      "authorship_tag": "ABX9TyN+EHR3ZJk3c2AXp4QXvwCs",
      "include_colab_link": true
    },
    "kernelspec": {
      "name": "python3",
      "display_name": "Python 3"
    },
    "language_info": {
      "name": "python"
    }
  },
  "cells": [
    {
      "cell_type": "markdown",
      "metadata": {
        "id": "view-in-github",
        "colab_type": "text"
      },
      "source": [
        "<a href=\"https://colab.research.google.com/github/sanyog-chavhan/Intermediate-Statistics-with-Python/blob/main/Intermediate_Statistics.ipynb\" target=\"_parent\"><img src=\"https://colab.research.google.com/assets/colab-badge.svg\" alt=\"Open In Colab\"/></a>"
      ]
    },
    {
      "cell_type": "markdown",
      "source": [
        "# Intermediate Statistics"
      ],
      "metadata": {
        "id": "5WkHEYD-vkhb"
      }
    },
    {
      "cell_type": "markdown",
      "source": [
        "The libraries we'll be using are:\n",
        "\n",
        "pandas: For loading the dataset\n",
        "\n",
        "math: For using certain mathematical functions like sqrt.\n",
        "\n",
        "scipy.stats: For implementing Shapiro Wilks Test, Standard Error of the Mean, Confidence Interval, T-test and Chi-square test"
      ],
      "metadata": {
        "id": "sunhnmZXCzt0"
      }
    },
    {
      "cell_type": "code",
      "source": [
        "import pandas as pd\n",
        "import math as m\n",
        "import scipy.stats as st"
      ],
      "metadata": {
        "id": "bJ-FB-NNvs17"
      },
      "execution_count": 32,
      "outputs": []
    },
    {
      "cell_type": "code",
      "source": [
        "df = pd.read_csv(\"Wine-quality-challenge.csv\")\n",
        "df.head()"
      ],
      "metadata": {
        "colab": {
          "base_uri": "https://localhost:8080/",
          "height": 206
        },
        "id": "CZ2pnxoIwPMF",
        "outputId": "00a7fc93-0636-4a50-9e5d-a7af97454b34"
      },
      "execution_count": 3,
      "outputs": [
        {
          "output_type": "execute_result",
          "data": {
            "text/plain": [
              "   fixed acidity  volatile acidity  citric acid  residual sugar  chlorides  \\\n",
              "0            7.4              0.70         0.00             1.9      0.076   \n",
              "1            7.8              0.88         0.00             2.6      0.098   \n",
              "2            7.8              0.76         0.04             2.3      0.092   \n",
              "3           11.2              0.28         0.56             1.9      0.075   \n",
              "4            7.4              0.70         0.00             1.9      0.076   \n",
              "\n",
              "   free sulfur dioxide  total sulfur dioxide  density    pH  sulphates  \\\n",
              "0                 11.0                  34.0   0.9978  3.51       0.56   \n",
              "1                 25.0                  67.0   0.9968  3.20       0.68   \n",
              "2                 15.0                  54.0   0.9970  3.26       0.65   \n",
              "3                 17.0                  60.0   0.9980  3.16       0.58   \n",
              "4                 11.0                  34.0   0.9978  3.51       0.56   \n",
              "\n",
              "   alcohol  quality  \n",
              "0      9.4        5  \n",
              "1      9.8        5  \n",
              "2      9.8        5  \n",
              "3      9.8        6  \n",
              "4      9.4        5  "
            ],
            "text/html": [
              "\n",
              "\n",
              "  <div id=\"df-e24b7fad-1756-4153-bd8f-b24d216557b2\">\n",
              "    <div class=\"colab-df-container\">\n",
              "      <div>\n",
              "<style scoped>\n",
              "    .dataframe tbody tr th:only-of-type {\n",
              "        vertical-align: middle;\n",
              "    }\n",
              "\n",
              "    .dataframe tbody tr th {\n",
              "        vertical-align: top;\n",
              "    }\n",
              "\n",
              "    .dataframe thead th {\n",
              "        text-align: right;\n",
              "    }\n",
              "</style>\n",
              "<table border=\"1\" class=\"dataframe\">\n",
              "  <thead>\n",
              "    <tr style=\"text-align: right;\">\n",
              "      <th></th>\n",
              "      <th>fixed acidity</th>\n",
              "      <th>volatile acidity</th>\n",
              "      <th>citric acid</th>\n",
              "      <th>residual sugar</th>\n",
              "      <th>chlorides</th>\n",
              "      <th>free sulfur dioxide</th>\n",
              "      <th>total sulfur dioxide</th>\n",
              "      <th>density</th>\n",
              "      <th>pH</th>\n",
              "      <th>sulphates</th>\n",
              "      <th>alcohol</th>\n",
              "      <th>quality</th>\n",
              "    </tr>\n",
              "  </thead>\n",
              "  <tbody>\n",
              "    <tr>\n",
              "      <th>0</th>\n",
              "      <td>7.4</td>\n",
              "      <td>0.70</td>\n",
              "      <td>0.00</td>\n",
              "      <td>1.9</td>\n",
              "      <td>0.076</td>\n",
              "      <td>11.0</td>\n",
              "      <td>34.0</td>\n",
              "      <td>0.9978</td>\n",
              "      <td>3.51</td>\n",
              "      <td>0.56</td>\n",
              "      <td>9.4</td>\n",
              "      <td>5</td>\n",
              "    </tr>\n",
              "    <tr>\n",
              "      <th>1</th>\n",
              "      <td>7.8</td>\n",
              "      <td>0.88</td>\n",
              "      <td>0.00</td>\n",
              "      <td>2.6</td>\n",
              "      <td>0.098</td>\n",
              "      <td>25.0</td>\n",
              "      <td>67.0</td>\n",
              "      <td>0.9968</td>\n",
              "      <td>3.20</td>\n",
              "      <td>0.68</td>\n",
              "      <td>9.8</td>\n",
              "      <td>5</td>\n",
              "    </tr>\n",
              "    <tr>\n",
              "      <th>2</th>\n",
              "      <td>7.8</td>\n",
              "      <td>0.76</td>\n",
              "      <td>0.04</td>\n",
              "      <td>2.3</td>\n",
              "      <td>0.092</td>\n",
              "      <td>15.0</td>\n",
              "      <td>54.0</td>\n",
              "      <td>0.9970</td>\n",
              "      <td>3.26</td>\n",
              "      <td>0.65</td>\n",
              "      <td>9.8</td>\n",
              "      <td>5</td>\n",
              "    </tr>\n",
              "    <tr>\n",
              "      <th>3</th>\n",
              "      <td>11.2</td>\n",
              "      <td>0.28</td>\n",
              "      <td>0.56</td>\n",
              "      <td>1.9</td>\n",
              "      <td>0.075</td>\n",
              "      <td>17.0</td>\n",
              "      <td>60.0</td>\n",
              "      <td>0.9980</td>\n",
              "      <td>3.16</td>\n",
              "      <td>0.58</td>\n",
              "      <td>9.8</td>\n",
              "      <td>6</td>\n",
              "    </tr>\n",
              "    <tr>\n",
              "      <th>4</th>\n",
              "      <td>7.4</td>\n",
              "      <td>0.70</td>\n",
              "      <td>0.00</td>\n",
              "      <td>1.9</td>\n",
              "      <td>0.076</td>\n",
              "      <td>11.0</td>\n",
              "      <td>34.0</td>\n",
              "      <td>0.9978</td>\n",
              "      <td>3.51</td>\n",
              "      <td>0.56</td>\n",
              "      <td>9.4</td>\n",
              "      <td>5</td>\n",
              "    </tr>\n",
              "  </tbody>\n",
              "</table>\n",
              "</div>\n",
              "      <button class=\"colab-df-convert\" onclick=\"convertToInteractive('df-e24b7fad-1756-4153-bd8f-b24d216557b2')\"\n",
              "              title=\"Convert this dataframe to an interactive table.\"\n",
              "              style=\"display:none;\">\n",
              "\n",
              "  <svg xmlns=\"http://www.w3.org/2000/svg\" height=\"24px\"viewBox=\"0 0 24 24\"\n",
              "       width=\"24px\">\n",
              "    <path d=\"M0 0h24v24H0V0z\" fill=\"none\"/>\n",
              "    <path d=\"M18.56 5.44l.94 2.06.94-2.06 2.06-.94-2.06-.94-.94-2.06-.94 2.06-2.06.94zm-11 1L8.5 8.5l.94-2.06 2.06-.94-2.06-.94L8.5 2.5l-.94 2.06-2.06.94zm10 10l.94 2.06.94-2.06 2.06-.94-2.06-.94-.94-2.06-.94 2.06-2.06.94z\"/><path d=\"M17.41 7.96l-1.37-1.37c-.4-.4-.92-.59-1.43-.59-.52 0-1.04.2-1.43.59L10.3 9.45l-7.72 7.72c-.78.78-.78 2.05 0 2.83L4 21.41c.39.39.9.59 1.41.59.51 0 1.02-.2 1.41-.59l7.78-7.78 2.81-2.81c.8-.78.8-2.07 0-2.86zM5.41 20L4 18.59l7.72-7.72 1.47 1.35L5.41 20z\"/>\n",
              "  </svg>\n",
              "      </button>\n",
              "\n",
              "\n",
              "\n",
              "    <div id=\"df-267292ff-3d26-4984-90c5-513d733ddd5c\">\n",
              "      <button class=\"colab-df-quickchart\" onclick=\"quickchart('df-267292ff-3d26-4984-90c5-513d733ddd5c')\"\n",
              "              title=\"Suggest charts.\"\n",
              "              style=\"display:none;\">\n",
              "\n",
              "<svg xmlns=\"http://www.w3.org/2000/svg\" height=\"24px\"viewBox=\"0 0 24 24\"\n",
              "     width=\"24px\">\n",
              "    <g>\n",
              "        <path d=\"M19 3H5c-1.1 0-2 .9-2 2v14c0 1.1.9 2 2 2h14c1.1 0 2-.9 2-2V5c0-1.1-.9-2-2-2zM9 17H7v-7h2v7zm4 0h-2V7h2v10zm4 0h-2v-4h2v4z\"/>\n",
              "    </g>\n",
              "</svg>\n",
              "      </button>\n",
              "    </div>\n",
              "\n",
              "<style>\n",
              "  .colab-df-quickchart {\n",
              "    background-color: #E8F0FE;\n",
              "    border: none;\n",
              "    border-radius: 50%;\n",
              "    cursor: pointer;\n",
              "    display: none;\n",
              "    fill: #1967D2;\n",
              "    height: 32px;\n",
              "    padding: 0 0 0 0;\n",
              "    width: 32px;\n",
              "  }\n",
              "\n",
              "  .colab-df-quickchart:hover {\n",
              "    background-color: #E2EBFA;\n",
              "    box-shadow: 0px 1px 2px rgba(60, 64, 67, 0.3), 0px 1px 3px 1px rgba(60, 64, 67, 0.15);\n",
              "    fill: #174EA6;\n",
              "  }\n",
              "\n",
              "  [theme=dark] .colab-df-quickchart {\n",
              "    background-color: #3B4455;\n",
              "    fill: #D2E3FC;\n",
              "  }\n",
              "\n",
              "  [theme=dark] .colab-df-quickchart:hover {\n",
              "    background-color: #434B5C;\n",
              "    box-shadow: 0px 1px 3px 1px rgba(0, 0, 0, 0.15);\n",
              "    filter: drop-shadow(0px 1px 2px rgba(0, 0, 0, 0.3));\n",
              "    fill: #FFFFFF;\n",
              "  }\n",
              "</style>\n",
              "\n",
              "    <script>\n",
              "      async function quickchart(key) {\n",
              "        const containerElement = document.querySelector('#' + key);\n",
              "        const charts = await google.colab.kernel.invokeFunction(\n",
              "            'suggestCharts', [key], {});\n",
              "      }\n",
              "    </script>\n",
              "\n",
              "      <script>\n",
              "\n",
              "function displayQuickchartButton(domScope) {\n",
              "  let quickchartButtonEl =\n",
              "    domScope.querySelector('#df-267292ff-3d26-4984-90c5-513d733ddd5c button.colab-df-quickchart');\n",
              "  quickchartButtonEl.style.display =\n",
              "    google.colab.kernel.accessAllowed ? 'block' : 'none';\n",
              "}\n",
              "\n",
              "        displayQuickchartButton(document);\n",
              "      </script>\n",
              "      <style>\n",
              "    .colab-df-container {\n",
              "      display:flex;\n",
              "      flex-wrap:wrap;\n",
              "      gap: 12px;\n",
              "    }\n",
              "\n",
              "    .colab-df-convert {\n",
              "      background-color: #E8F0FE;\n",
              "      border: none;\n",
              "      border-radius: 50%;\n",
              "      cursor: pointer;\n",
              "      display: none;\n",
              "      fill: #1967D2;\n",
              "      height: 32px;\n",
              "      padding: 0 0 0 0;\n",
              "      width: 32px;\n",
              "    }\n",
              "\n",
              "    .colab-df-convert:hover {\n",
              "      background-color: #E2EBFA;\n",
              "      box-shadow: 0px 1px 2px rgba(60, 64, 67, 0.3), 0px 1px 3px 1px rgba(60, 64, 67, 0.15);\n",
              "      fill: #174EA6;\n",
              "    }\n",
              "\n",
              "    [theme=dark] .colab-df-convert {\n",
              "      background-color: #3B4455;\n",
              "      fill: #D2E3FC;\n",
              "    }\n",
              "\n",
              "    [theme=dark] .colab-df-convert:hover {\n",
              "      background-color: #434B5C;\n",
              "      box-shadow: 0px 1px 3px 1px rgba(0, 0, 0, 0.15);\n",
              "      filter: drop-shadow(0px 1px 2px rgba(0, 0, 0, 0.3));\n",
              "      fill: #FFFFFF;\n",
              "    }\n",
              "  </style>\n",
              "\n",
              "      <script>\n",
              "        const buttonEl =\n",
              "          document.querySelector('#df-e24b7fad-1756-4153-bd8f-b24d216557b2 button.colab-df-convert');\n",
              "        buttonEl.style.display =\n",
              "          google.colab.kernel.accessAllowed ? 'block' : 'none';\n",
              "\n",
              "        async function convertToInteractive(key) {\n",
              "          const element = document.querySelector('#df-e24b7fad-1756-4153-bd8f-b24d216557b2');\n",
              "          const dataTable =\n",
              "            await google.colab.kernel.invokeFunction('convertToInteractive',\n",
              "                                                     [key], {});\n",
              "          if (!dataTable) return;\n",
              "\n",
              "          const docLinkHtml = 'Like what you see? Visit the ' +\n",
              "            '<a target=\"_blank\" href=https://colab.research.google.com/notebooks/data_table.ipynb>data table notebook</a>'\n",
              "            + ' to learn more about interactive tables.';\n",
              "          element.innerHTML = '';\n",
              "          dataTable['output_type'] = 'display_data';\n",
              "          await google.colab.output.renderOutput(dataTable, element);\n",
              "          const docLink = document.createElement('div');\n",
              "          docLink.innerHTML = docLinkHtml;\n",
              "          element.appendChild(docLink);\n",
              "        }\n",
              "      </script>\n",
              "    </div>\n",
              "  </div>\n"
            ]
          },
          "metadata": {},
          "execution_count": 3
        }
      ]
    },
    {
      "cell_type": "markdown",
      "source": [
        "**Normal Distribution aka Gaussian Distribution** is a common probability distribution that forms a **bell-shaped curve** when plotted. It's characterized by its **symmetry around the mean**, with most values clustering around the mean and fewer values farther away.\n",
        "\n",
        "This is very essential in statistics as many real-world phenomena tend to follow this distribution making it fundamental in data analysis.\n",
        "\n",
        "For example,\n",
        "\n",
        "Imagine you're measuring the heights of a large group of people. If you were to plot the heights on a graph, you might find that most people have heights close to the average height, while very tall or very short individuals are less common. This clustering around the average height is a characteristic of the Normal Distribution.\n",
        "\n",
        "The **68-95-99 rule**, is a guideline that applies to data that follows a Normal Distribution:\n",
        "\n",
        "Approximately **68%** of the data falls within **one standard deviation (σ) of the mean (μ)**.\n",
        "\n",
        "  This can be expressed as: **μ - σ ≤ x ≤ μ + σ**\n",
        "\n",
        "Approximately **95%** falls within **two standard deviations from the mean**.\n",
        "\n",
        "  This can be expressed as: **μ - 2σ ≤ x ≤ μ + 2σ**\n",
        "\n",
        "About **99.7%** falls within **three standard deviations from the mean**.\n",
        "\n",
        "  This can be expressed as: **μ - 3σ ≤ x ≤ μ + 3σ**"
      ],
      "metadata": {
        "id": "Imv3GNYCXxtq"
      }
    },
    {
      "cell_type": "code",
      "source": [
        "#Normal Distribution\n",
        "df.chlorides.plot.density()   # Here we're analysing whether chlorides are normally distributed or not"
      ],
      "metadata": {
        "colab": {
          "base_uri": "https://localhost:8080/",
          "height": 447
        },
        "id": "Fqn5lMGHxSqK",
        "outputId": "7d071994-fc50-4856-9c59-f2c873fc0548"
      },
      "execution_count": 4,
      "outputs": [
        {
          "output_type": "execute_result",
          "data": {
            "text/plain": [
              "<Axes: ylabel='Density'>"
            ]
          },
          "metadata": {},
          "execution_count": 4
        },
        {
          "output_type": "display_data",
          "data": {
            "text/plain": [
              "<Figure size 640x480 with 1 Axes>"
            ],
            "image/png": "[encoded data removed]"
          },
          "metadata": {}
        }
      ]
    },
    {
      "cell_type": "code",
      "source": [
        "#Using the 68-95-99 Rule for Normal Distribution, check whether the chlorides are normally distributed or not\n",
        "df.loc[(df.chlorides <= df.chlorides.mean() + 1 * df.chlorides.std()) & (df.chlorides >= df.chlorides.mean() - 1 * df.chlorides.std())].chlorides.count()/df.chlorides.count() * 100\n",
        "\n",
        "# It can be seen that almost 94.8% of the data falls within one standard deviation from the mean"
      ],
      "metadata": {
        "colab": {
          "base_uri": "https://localhost:8080/"
        },
        "id": "pxpD-Q2QxjB6",
        "outputId": "dd9e501a-858c-4583-d3cd-3c103350987a"
      },
      "execution_count": 5,
      "outputs": [
        {
          "output_type": "execute_result",
          "data": {
            "text/plain": [
              "94.80925578486554"
            ]
          },
          "metadata": {},
          "execution_count": 5
        }
      ]
    },
    {
      "cell_type": "code",
      "source": [
        "#Using the 68-95-99 Rule for Normal Distribution, check whether the chlorides are normally distributed or not\n",
        "df.loc[(df.chlorides <= df.chlorides.mean() + 2 * df.chlorides.std()) & (df.chlorides >= df.chlorides.mean() - 2 * df.chlorides.std())].chlorides.count()/df.chlorides.count() * 100\n",
        "\n",
        "# It can be seen that almost 97.1% of the data falls within two standard deviations from the mean"
      ],
      "metadata": {
        "colab": {
          "base_uri": "https://localhost:8080/"
        },
        "id": "5HVz1gCMzKHk",
        "outputId": "c3a8c84e-469a-485a-d635-20ba302540c7"
      },
      "execution_count": 6,
      "outputs": [
        {
          "output_type": "execute_result",
          "data": {
            "text/plain": [
              "97.18574108818011"
            ]
          },
          "metadata": {},
          "execution_count": 6
        }
      ]
    },
    {
      "cell_type": "code",
      "source": [
        "#Using the 68-95-99 Rule for Normal Distribution, check whether the chlorides are normally distributed or not\n",
        "df.loc[(df.chlorides <= df.chlorides.mean() + 3 * df.chlorides.std()) & (df.chlorides >= df.chlorides.mean() - 3 * df.chlorides.std())].chlorides.count()/df.chlorides.count() * 100\n",
        "\n",
        "# It can be seen that almost 98% of the data falls within three standard deviations from the mean"
      ],
      "metadata": {
        "colab": {
          "base_uri": "https://localhost:8080/"
        },
        "id": "NKISIrGOz6D0",
        "outputId": "a1773755-fd17-4f54-c1a4-8faf86fa1291"
      },
      "execution_count": 7,
      "outputs": [
        {
          "output_type": "execute_result",
          "data": {
            "text/plain": [
              "98.06128830519074"
            ]
          },
          "metadata": {},
          "execution_count": 7
        }
      ]
    },
    {
      "cell_type": "code",
      "source": [
        "# Share of Observations within 3 Standard Deviations of Alcohol\n",
        "df.loc[(df.alcohol <= df.alcohol.mean() + 3 * df.alcohol.std()) & (df.alcohol >= df.alcohol.mean() - 3 * df.alcohol.std())].alcohol.count()/df.alcohol.count() * 100"
      ],
      "metadata": {
        "colab": {
          "base_uri": "https://localhost:8080/"
        },
        "id": "M6idK_t0z-j5",
        "outputId": "073cefb5-f074-439c-a68b-84a53465be52"
      },
      "execution_count": 8,
      "outputs": [
        {
          "output_type": "execute_result",
          "data": {
            "text/plain": [
              "99.49968730456536"
            ]
          },
          "metadata": {},
          "execution_count": 8
        }
      ]
    },
    {
      "cell_type": "code",
      "source": [
        "df.alcohol.plot.density()   # Alcohol does not follow the symmetric distribution with the mean in the middle"
      ],
      "metadata": {
        "id": "CpH7tT6r0m2A",
        "outputId": "a257f62c-6903-4475-fde7-c79f1004d5fb",
        "colab": {
          "base_uri": "https://localhost:8080/",
          "height": 447
        }
      },
      "execution_count": 9,
      "outputs": [
        {
          "output_type": "execute_result",
          "data": {
            "text/plain": [
              "<Axes: ylabel='Density'>"
            ]
          },
          "metadata": {},
          "execution_count": 9
        },
        {
          "output_type": "display_data",
          "data": {
            "text/plain": [
              "<Figure size 640x480 with 1 Axes>"
            ],
            "image/png": "[encoded data removed]"
          },
          "metadata": {}
        }
      ]
    },
    {
      "cell_type": "markdown",
      "source": [
        "Before proceeding with Shapiro Wilks Test, let's talk about P-value and Hypothesis testing and terms like Null Hypothesis and Alternative Hypothesis and why P-value is essential during Shapiro Wilks Test\n",
        "\n",
        "The **p-value** is a number that helps us decide whether the evidence we have supports a hypothesis or if it's just due to chance. A low p-value suggests strong evidence against the \"nothing special\" idea (null hypothesis), while a high p-value means the evidence isn't strong enough to reject that idea.\n",
        "\n",
        "In Layman's terms, imagine you're in a courtroom trial. The p-value is like the evidence presented in court against a defendant (hypothesis). It tells you how strong the evidence is against your hypothesis. If the p-value is small, it suggests the evidence is strong, and you might consider the hypothesis not true.\n",
        "\n",
        "**Null Hypothesis (H₀):** This is like assuming nothing unusual is happening. It's the default idea that there's no effect or difference. For example, in a trial, the null hypothesis might be \"the defendant is innocent.\"\n",
        "\n",
        "**Alternative Hypothesis (H₁ or Ha):** This is like suggesting something is different or interesting. It's the opposite of the null hypothesis. In the trial, the alternative hypothesis might be \"the defendant is guilty.\"\n",
        "\n",
        "A threshold value is required for decision making in such cases where we're presented with Null hypothesis and Alternative hypothesis. Think of a p-value threshold as your courtroom rule.\n",
        "\n",
        "**For every hypothesis, there is an alternative hypothesis.**\n",
        "\n",
        "For example,\n",
        "\n",
        "**Null Hypothesis (H0)**: Average salary of a Cloud Engineer is $80k.\n",
        "\n",
        "The alternative hypothesis for this will be,\n",
        "\n",
        "**Alternative Hypothesis (H1)**: Average salary of a Cloud Engineer is not $80k.\n",
        "\n",
        "Let's say the threshold is **0.05** in this case, so if the **P-value is small than the threshold**, we'd **reject the null hypothesis** in favour of the alternative hypothesis(**Average salary of a Cloud Engineer is not $80k**).\n",
        "\n",
        "Else if the **P-value is bigger than the threshold**, we'd **accept the null hypothesis**(**Average salary of a Cloud Engineer is $80k**)."
      ],
      "metadata": {
        "id": "NfZ5CdQXeF5g"
      }
    },
    {
      "cell_type": "markdown",
      "source": [
        "# Shapiro Wilks Test"
      ],
      "metadata": {
        "id": "OzwEWZWgY2yD"
      }
    },
    {
      "cell_type": "markdown",
      "source": [
        "**Shapiro Wilks Test** was created in 1965 in order to check the normality.\n",
        "\n",
        "At its core, the Shapiro-Wilk test assesses the null hypothesis that your data follows a normal distribution. The test generates a **p-value**, which helps you make an informed decision about whether you can comfortably assume that your data comes from a normal distribution.\n",
        "\n",
        "**Null Hypothesis (H₀)**: The null hypothesis assumes that your data follows a normal distribution.\n",
        "\n",
        "**Alternative Hypothesis (H₁)**: The alternative hypothesis assumes that your data doesn't follow a normal distribution.\n",
        "\n",
        "Let's consider the threshold as 0.05 in this case,\n",
        "\n",
        "If **P-value < 0.05** = **Rejecting the Null Hypothesis** (The assumption that the data follows a normal distribution is rejected)\n",
        "\n",
        "If **P-value > 0.05** = **Accepting the Null Hypothesis** (The assumption that the data follows a normal distribution is accepted)"
      ],
      "metadata": {
        "id": "AwW0AdM-qQM9"
      }
    },
    {
      "cell_type": "code",
      "source": [
        "#Shapiro Wilks Test for Normality\n",
        "statistic, p = st.shapiro(df.chlorides)\n",
        "p"
      ],
      "metadata": {
        "colab": {
          "base_uri": "https://localhost:8080/"
        },
        "id": "Oq0PHcWxY6RQ",
        "outputId": "d9d91eec-506d-4729-a04a-d001702fad98"
      },
      "execution_count": 10,
      "outputs": [
        {
          "output_type": "execute_result",
          "data": {
            "text/plain": [
              "0.0"
            ]
          },
          "metadata": {},
          "execution_count": 10
        }
      ]
    },
    {
      "cell_type": "code",
      "source": [
        "if p > 0.05:\n",
        "  print('Sample looks Gaussian/Normal (Failed to reject Null Hypothesis)')\n",
        "elif p < 0.05:\n",
        "  print('Sample does not look Gaussian/Normal (Rejecting the Null Hypothesis)')"
      ],
      "metadata": {
        "colab": {
          "base_uri": "https://localhost:8080/"
        },
        "id": "vOIA0jMaZDuc",
        "outputId": "c37520f5-d9d3-4c0c-f8b5-6ec98b789262"
      },
      "execution_count": 11,
      "outputs": [
        {
          "output_type": "stream",
          "name": "stdout",
          "text": [
            "Sample does not look Gaussian/Normal (Rejecting the Null Hypothesis)\n"
          ]
        }
      ]
    },
    {
      "cell_type": "code",
      "source": [
        "#Shapiro Wilks Test for checking the Normality of Sulphates\n",
        "statistic, p_sulphate = st.shapiro(df.sulphates)\n",
        "print(p_sulphate)\n",
        "if p_sulphate > 0.05:\n",
        "  print('Sample looks Gaussian/Normal (Failed to reject Null Hypothesis)')\n",
        "elif p_sulphate < 0.05:\n",
        "  print('Sample does not look Gaussian/Normal (Rejecting the Null Hypothesis)')"
      ],
      "metadata": {
        "colab": {
          "base_uri": "https://localhost:8080/"
        },
        "id": "8s9AfgKVagXW",
        "outputId": "c18befcb-5ad4-4388-927e-6bf94cda6470"
      },
      "execution_count": 12,
      "outputs": [
        {
          "output_type": "stream",
          "name": "stdout",
          "text": [
            "5.821617678881608e-38\n",
            "Sample does not look Gaussian/Normal (Rejecting the Null Hypothesis)\n"
          ]
        }
      ]
    },
    {
      "cell_type": "markdown",
      "source": [
        "# Standard Error of the Mean"
      ],
      "metadata": {
        "id": "HeiqLTDfFL2a"
      }
    },
    {
      "cell_type": "markdown",
      "source": [
        "**Standard Error of the Mean (SEM)** is like a measure of how much your sample mean might wiggle around from the true population mean. **It gives you an idea of how reliable your sample mean is as an estimate of the actual average**.\n",
        "\n",
        "In simple terms, **SEM tells you how much you can trust your calculated average from your sample to represent the whole group**.\n",
        "\n",
        "Let's say you're a scientist studying the heights of sunflowers in a field. You measure the heights of 20 sunflowers and find the average height to be 120 cm.\n",
        "\n",
        "But wait! Your sample of 20 sunflowers might not represent all the sunflowers in the field perfectly. Some sunflowers might be taller, some might be shorter, and your sample could be a bit lucky or unlucky in terms of heights.\n",
        "\n",
        "This is where SEM comes in. Let's say you calculate the **SEM to be 5 cm**. It means that you can be reasonably confident that the true average height of all the sunflowers in the field is likely to fall within **115 cm to 125 cm (120 ± 5)**.\n",
        "\n",
        "SEM = $\\frac{Sample Size}{\\sqrt{Sample Standard Deviation}}$."
      ],
      "metadata": {
        "id": "Ck4rDtnqtkJR"
      }
    },
    {
      "cell_type": "code",
      "source": [
        "#Standard Error of the Mean\n",
        "st.sem(df.alcohol)"
      ],
      "metadata": {
        "colab": {
          "base_uri": "https://localhost:8080/"
        },
        "id": "StrDxva-FQf0",
        "outputId": "36bab5bb-8e5f-4ea6-8335-92cdb3cb8334"
      },
      "execution_count": 13,
      "outputs": [
        {
          "output_type": "execute_result",
          "data": {
            "text/plain": [
              "0.026650018979018173"
            ]
          },
          "metadata": {},
          "execution_count": 13
        }
      ]
    },
    {
      "cell_type": "code",
      "source": [
        "#Traditional Method to calculate the Standard Error : Standard Deviation / Sqrt of the Observations\n",
        "df.alcohol.std()/m.sqrt(df.alcohol.count())"
      ],
      "metadata": {
        "colab": {
          "base_uri": "https://localhost:8080/"
        },
        "id": "ANFTRM2EFflp",
        "outputId": "823de89d-37b0-4977-98b6-26da81116eb8"
      },
      "execution_count": 14,
      "outputs": [
        {
          "output_type": "execute_result",
          "data": {
            "text/plain": [
              "0.026650018979018173"
            ]
          },
          "metadata": {},
          "execution_count": 14
        }
      ]
    },
    {
      "cell_type": "code",
      "source": [
        "#Standard Error of pH\n",
        "st.sem(df.pH)"
      ],
      "metadata": {
        "colab": {
          "base_uri": "https://localhost:8080/"
        },
        "id": "yIzLWo8VF1q6",
        "outputId": "9eac6e8c-44d6-495b-83af-057038b84bcb"
      },
      "execution_count": 15,
      "outputs": [
        {
          "output_type": "execute_result",
          "data": {
            "text/plain": [
              "0.0038608683325203784"
            ]
          },
          "metadata": {},
          "execution_count": 15
        }
      ]
    },
    {
      "cell_type": "code",
      "source": [
        "df.pH.std()/m.sqrt(df.pH.count())"
      ],
      "metadata": {
        "colab": {
          "base_uri": "https://localhost:8080/"
        },
        "id": "3k5P2IssGLIZ",
        "outputId": "c9073480-b4da-4fd0-dfd1-86cf6090af71"
      },
      "execution_count": 16,
      "outputs": [
        {
          "output_type": "execute_result",
          "data": {
            "text/plain": [
              "0.0038608683325203784"
            ]
          },
          "metadata": {},
          "execution_count": 16
        }
      ]
    },
    {
      "cell_type": "markdown",
      "source": [
        "# Confidence Interval"
      ],
      "metadata": {
        "id": "maguEAowA0_H"
      }
    },
    {
      "cell_type": "markdown",
      "source": [
        "Let's talk about **Confidence Interval** and **Confidence Level** and why they are necessary while estimation of different parameters.\n",
        "\n",
        "In statistics, a confidence interval is a range of values around an estimated parameter that you're reasonably confident contains the true parameter value.\n",
        "\n",
        "Mathematically, a confidence interval is typically represented as:\n",
        "\n",
        "**Estimate ± Margin of Error**\n",
        "\n",
        "Where:\n",
        "\n",
        "**Estimate** is the calculated value based on your data, such as the sample mean or proportion.\n",
        "\n",
        "**Margin of Error** accounts for the variability in your data and is determined by the chosen confidence level and the variability of the data.\n",
        "\n",
        "The confidence level (**often denoted as 1 - α**) indicates the probability that your confidence interval contains the true parameter value.\n",
        "\n",
        "For instance, **a 95% confidence level means you're 95% confident that the true parameter value lies within your interval**."
      ],
      "metadata": {
        "id": "Q0a1kbGOEeLS"
      }
    },
    {
      "cell_type": "code",
      "source": [
        "#Confidence Interval of the mean of Citric Acid and considering 95% Confidence Level\n",
        "print(df[[\"citric acid\"]].mean())\n",
        "st.norm.interval(confidence = 0.95,\n",
        "                 loc = df[[\"citric acid\"]].mean(),\n",
        "                 scale = st.sem(df[[\"citric acid\"]]))"
      ],
      "metadata": {
        "colab": {
          "base_uri": "https://localhost:8080/"
        },
        "id": "cHRlANAvA50R",
        "outputId": "bfdea209-9a63-477d-812f-ca9676c0cb90"
      },
      "execution_count": 17,
      "outputs": [
        {
          "output_type": "stream",
          "name": "stdout",
          "text": [
            "citric acid    0.270976\n",
            "dtype: float64\n"
          ]
        },
        {
          "output_type": "execute_result",
          "data": {
            "text/plain": [
              "(array([0.26142755]), array([0.28052367]))"
            ]
          },
          "metadata": {},
          "execution_count": 17
        }
      ]
    },
    {
      "cell_type": "code",
      "source": [
        "#With 90% confidence Level\n",
        "st.norm.interval(confidence = 0.90,\n",
        "                 loc = df[[\"citric acid\"]].mean(),\n",
        "                 scale = st.sem(df[[\"citric acid\"]]))"
      ],
      "metadata": {
        "colab": {
          "base_uri": "https://localhost:8080/"
        },
        "id": "kdxTe-xCBEgl",
        "outputId": "a00d7af9-9115-4427-aa52-34fa9f349a55"
      },
      "execution_count": 18,
      "outputs": [
        {
          "output_type": "execute_result",
          "data": {
            "text/plain": [
              "(array([0.26296262]), array([0.2789886]))"
            ]
          },
          "metadata": {},
          "execution_count": 18
        }
      ]
    },
    {
      "cell_type": "code",
      "source": [
        "#Confidence Interval of the Density Mean\n",
        "print(df.density.mean())\n",
        "st.norm.interval(confidence = 0.95,\n",
        "                 loc = df.density.mean(),\n",
        "                 scale = st.sem(df.density))"
      ],
      "metadata": {
        "colab": {
          "base_uri": "https://localhost:8080/"
        },
        "id": "9N9MzUgtCHyP",
        "outputId": "7969ef02-6db4-4acc-e539-5b66494f30d1"
      },
      "execution_count": 19,
      "outputs": [
        {
          "output_type": "stream",
          "name": "stdout",
          "text": [
            "0.9967466791744841\n"
          ]
        },
        {
          "output_type": "execute_result",
          "data": {
            "text/plain": [
              "(0.9966541725972521, 0.9968391857517162)"
            ]
          },
          "metadata": {},
          "execution_count": 19
        }
      ]
    },
    {
      "cell_type": "code",
      "source": [
        "df.density.hist()"
      ],
      "metadata": {
        "colab": {
          "base_uri": "https://localhost:8080/",
          "height": 447
        },
        "id": "w7-WQ7cpDJXw",
        "outputId": "60542963-d360-4017-acdd-11ccf61ad069"
      },
      "execution_count": 20,
      "outputs": [
        {
          "output_type": "execute_result",
          "data": {
            "text/plain": [
              "<Axes: >"
            ]
          },
          "metadata": {},
          "execution_count": 20
        },
        {
          "output_type": "display_data",
          "data": {
            "text/plain": [
              "<Figure size 640x480 with 1 Axes>"
            ],
            "image/png": "[encoded data removed]"
          },
          "metadata": {}
        }
      ]
    },
    {
      "cell_type": "markdown",
      "source": [
        "# T-test"
      ],
      "metadata": {
        "id": "XDKMT4ikH_qV"
      }
    },
    {
      "cell_type": "markdown",
      "source": [
        "The t-test calculates a **t-value based on the means and variability of your two groups**. Then, it compares this t-value to a critical t-value, which is like a benchmark for significance. If your calculated t-value is much bigger than the critical value, it suggests the differences are meaningful.\n",
        "\n",
        "In layman's terms, **a t-test is like a detective tool for comparing two groups and figuring out if they're really different or if the differences could just be due to random chance**.\n",
        "\n",
        "**T-test helps one understand whether one group is statistically different from the other**.\n",
        "\n",
        "In the below example, we'll import the stackoverflow dataset and compare the salaries of people working in the UK vs Germany and check whether one group is statistically different from the other or not."
      ],
      "metadata": {
        "id": "eYVtXxrustgU"
      }
    },
    {
      "cell_type": "code",
      "source": [
        "#Load data for T-test\n",
        "data = pd.read_csv(\"stackoverflow.csv\")\n",
        "data.head()"
      ],
      "metadata": {
        "colab": {
          "base_uri": "https://localhost:8080/",
          "height": 386
        },
        "id": "HY8KvqBLIBGY",
        "outputId": "e746806e-e87b-4d30-fa89-be4213b85fd5"
      },
      "execution_count": 21,
      "outputs": [
        {
          "output_type": "execute_result",
          "data": {
            "text/plain": [
              "          Country         Salary  YearsCodedJob  OpenSource  Hobby  \\\n",
              "0  United Kingdom  100000.000000             20           0      1   \n",
              "1   United States  130000.000000             20           1      1   \n",
              "2   United States  175000.000000             16           0      1   \n",
              "3         Germany   64516.129030              4           0      0   \n",
              "4           India    6636.323594              1           0      1   \n",
              "\n",
              "   CompanySizeNumber      Remote  CareerSatisfaction  Data_scientist  \\\n",
              "0               5000      Remote                   8               0   \n",
              "1               1000      Remote                   9               0   \n",
              "2              10000  Not remote                   7               0   \n",
              "3               1000  Not remote                   9               0   \n",
              "4               5000  Not remote                   5               0   \n",
              "\n",
              "   Database_administrator  ...  Developer_with_stats_math_background  DevOps  \\\n",
              "0                       0  ...                                     0       0   \n",
              "1                       0  ...                                     0       1   \n",
              "2                       0  ...                                     0       0   \n",
              "3                       0  ...                                     0       0   \n",
              "4                       0  ...                                     0       0   \n",
              "\n",
              "   Embedded_developer  Graphic_designer  Graphics_programming  \\\n",
              "0                   1                 0                     0   \n",
              "1                   1                 0                     0   \n",
              "2                   0                 0                     0   \n",
              "3                   0                 0                     0   \n",
              "4                   0                 0                     0   \n",
              "\n",
              "   Machine_learning_specialist  Mobile_developer  Quality_assurance_engineer  \\\n",
              "0                            0                 0                           0   \n",
              "1                            0                 0                           1   \n",
              "2                            0                 0                           0   \n",
              "3                            0                 0                           0   \n",
              "4                            0                 0                           0   \n",
              "\n",
              "   Systems_administrator  Web_developer  \n",
              "0                      0              0  \n",
              "1                      0              1  \n",
              "2                      0              1  \n",
              "3                      0              1  \n",
              "4                      0              1  \n",
              "\n",
              "[5 rows x 21 columns]"
            ],
            "text/html": [
              "\n",
              "\n",
              "  <div id=\"df-25ec2fb5-7ea3-4161-8ae9-063d631e0df1\">\n",
              "    <div class=\"colab-df-container\">\n",
              "      <div>\n",
              "<style scoped>\n",
              "    .dataframe tbody tr th:only-of-type {\n",
              "        vertical-align: middle;\n",
              "    }\n",
              "\n",
              "    .dataframe tbody tr th {\n",
              "        vertical-align: top;\n",
              "    }\n",
              "\n",
              "    .dataframe thead th {\n",
              "        text-align: right;\n",
              "    }\n",
              "</style>\n",
              "<table border=\"1\" class=\"dataframe\">\n",
              "  <thead>\n",
              "    <tr style=\"text-align: right;\">\n",
              "      <th></th>\n",
              "      <th>Country</th>\n",
              "      <th>Salary</th>\n",
              "      <th>YearsCodedJob</th>\n",
              "      <th>OpenSource</th>\n",
              "      <th>Hobby</th>\n",
              "      <th>CompanySizeNumber</th>\n",
              "      <th>Remote</th>\n",
              "      <th>CareerSatisfaction</th>\n",
              "      <th>Data_scientist</th>\n",
              "      <th>Database_administrator</th>\n",
              "      <th>...</th>\n",
              "      <th>Developer_with_stats_math_background</th>\n",
              "      <th>DevOps</th>\n",
              "      <th>Embedded_developer</th>\n",
              "      <th>Graphic_designer</th>\n",
              "      <th>Graphics_programming</th>\n",
              "      <th>Machine_learning_specialist</th>\n",
              "      <th>Mobile_developer</th>\n",
              "      <th>Quality_assurance_engineer</th>\n",
              "      <th>Systems_administrator</th>\n",
              "      <th>Web_developer</th>\n",
              "    </tr>\n",
              "  </thead>\n",
              "  <tbody>\n",
              "    <tr>\n",
              "      <th>0</th>\n",
              "      <td>United Kingdom</td>\n",
              "      <td>100000.000000</td>\n",
              "      <td>20</td>\n",
              "      <td>0</td>\n",
              "      <td>1</td>\n",
              "      <td>5000</td>\n",
              "      <td>Remote</td>\n",
              "      <td>8</td>\n",
              "      <td>0</td>\n",
              "      <td>0</td>\n",
              "      <td>...</td>\n",
              "      <td>0</td>\n",
              "      <td>0</td>\n",
              "      <td>1</td>\n",
              "      <td>0</td>\n",
              "      <td>0</td>\n",
              "      <td>0</td>\n",
              "      <td>0</td>\n",
              "      <td>0</td>\n",
              "      <td>0</td>\n",
              "      <td>0</td>\n",
              "    </tr>\n",
              "    <tr>\n",
              "      <th>1</th>\n",
              "      <td>United States</td>\n",
              "      <td>130000.000000</td>\n",
              "      <td>20</td>\n",
              "      <td>1</td>\n",
              "      <td>1</td>\n",
              "      <td>1000</td>\n",
              "      <td>Remote</td>\n",
              "      <td>9</td>\n",
              "      <td>0</td>\n",
              "      <td>0</td>\n",
              "      <td>...</td>\n",
              "      <td>0</td>\n",
              "      <td>1</td>\n",
              "      <td>1</td>\n",
              "      <td>0</td>\n",
              "      <td>0</td>\n",
              "      <td>0</td>\n",
              "      <td>0</td>\n",
              "      <td>1</td>\n",
              "      <td>0</td>\n",
              "      <td>1</td>\n",
              "    </tr>\n",
              "    <tr>\n",
              "      <th>2</th>\n",
              "      <td>United States</td>\n",
              "      <td>175000.000000</td>\n",
              "      <td>16</td>\n",
              "      <td>0</td>\n",
              "      <td>1</td>\n",
              "      <td>10000</td>\n",
              "      <td>Not remote</td>\n",
              "      <td>7</td>\n",
              "      <td>0</td>\n",
              "      <td>0</td>\n",
              "      <td>...</td>\n",
              "      <td>0</td>\n",
              "      <td>0</td>\n",
              "      <td>0</td>\n",
              "      <td>0</td>\n",
              "      <td>0</td>\n",
              "      <td>0</td>\n",
              "      <td>0</td>\n",
              "      <td>0</td>\n",
              "      <td>0</td>\n",
              "      <td>1</td>\n",
              "    </tr>\n",
              "    <tr>\n",
              "      <th>3</th>\n",
              "      <td>Germany</td>\n",
              "      <td>64516.129030</td>\n",
              "      <td>4</td>\n",
              "      <td>0</td>\n",
              "      <td>0</td>\n",
              "      <td>1000</td>\n",
              "      <td>Not remote</td>\n",
              "      <td>9</td>\n",
              "      <td>0</td>\n",
              "      <td>0</td>\n",
              "      <td>...</td>\n",
              "      <td>0</td>\n",
              "      <td>0</td>\n",
              "      <td>0</td>\n",
              "      <td>0</td>\n",
              "      <td>0</td>\n",
              "      <td>0</td>\n",
              "      <td>0</td>\n",
              "      <td>0</td>\n",
              "      <td>0</td>\n",
              "      <td>1</td>\n",
              "    </tr>\n",
              "    <tr>\n",
              "      <th>4</th>\n",
              "      <td>India</td>\n",
              "      <td>6636.323594</td>\n",
              "      <td>1</td>\n",
              "      <td>0</td>\n",
              "      <td>1</td>\n",
              "      <td>5000</td>\n",
              "      <td>Not remote</td>\n",
              "      <td>5</td>\n",
              "      <td>0</td>\n",
              "      <td>0</td>\n",
              "      <td>...</td>\n",
              "      <td>0</td>\n",
              "      <td>0</td>\n",
              "      <td>0</td>\n",
              "      <td>0</td>\n",
              "      <td>0</td>\n",
              "      <td>0</td>\n",
              "      <td>0</td>\n",
              "      <td>0</td>\n",
              "      <td>0</td>\n",
              "      <td>1</td>\n",
              "    </tr>\n",
              "  </tbody>\n",
              "</table>\n",
              "<p>5 rows × 21 columns</p>\n",
              "</div>\n",
              "      <button class=\"colab-df-convert\" onclick=\"convertToInteractive('df-25ec2fb5-7ea3-4161-8ae9-063d631e0df1')\"\n",
              "              title=\"Convert this dataframe to an interactive table.\"\n",
              "              style=\"display:none;\">\n",
              "\n",
              "  <svg xmlns=\"http://www.w3.org/2000/svg\" height=\"24px\"viewBox=\"0 0 24 24\"\n",
              "       width=\"24px\">\n",
              "    <path d=\"M0 0h24v24H0V0z\" fill=\"none\"/>\n",
              "    <path d=\"M18.56 5.44l.94 2.06.94-2.06 2.06-.94-2.06-.94-.94-2.06-.94 2.06-2.06.94zm-11 1L8.5 8.5l.94-2.06 2.06-.94-2.06-.94L8.5 2.5l-.94 2.06-2.06.94zm10 10l.94 2.06.94-2.06 2.06-.94-2.06-.94-.94-2.06-.94 2.06-2.06.94z\"/><path d=\"M17.41 7.96l-1.37-1.37c-.4-.4-.92-.59-1.43-.59-.52 0-1.04.2-1.43.59L10.3 9.45l-7.72 7.72c-.78.78-.78 2.05 0 2.83L4 21.41c.39.39.9.59 1.41.59.51 0 1.02-.2 1.41-.59l7.78-7.78 2.81-2.81c.8-.78.8-2.07 0-2.86zM5.41 20L4 18.59l7.72-7.72 1.47 1.35L5.41 20z\"/>\n",
              "  </svg>\n",
              "      </button>\n",
              "\n",
              "\n",
              "\n",
              "    <div id=\"df-0b8368e7-06cd-4f38-b147-4d49d1b78876\">\n",
              "      <button class=\"colab-df-quickchart\" onclick=\"quickchart('df-0b8368e7-06cd-4f38-b147-4d49d1b78876')\"\n",
              "              title=\"Suggest charts.\"\n",
              "              style=\"display:none;\">\n",
              "\n",
              "<svg xmlns=\"http://www.w3.org/2000/svg\" height=\"24px\"viewBox=\"0 0 24 24\"\n",
              "     width=\"24px\">\n",
              "    <g>\n",
              "        <path d=\"M19 3H5c-1.1 0-2 .9-2 2v14c0 1.1.9 2 2 2h14c1.1 0 2-.9 2-2V5c0-1.1-.9-2-2-2zM9 17H7v-7h2v7zm4 0h-2V7h2v10zm4 0h-2v-4h2v4z\"/>\n",
              "    </g>\n",
              "</svg>\n",
              "      </button>\n",
              "    </div>\n",
              "\n",
              "<style>\n",
              "  .colab-df-quickchart {\n",
              "    background-color: #E8F0FE;\n",
              "    border: none;\n",
              "    border-radius: 50%;\n",
              "    cursor: pointer;\n",
              "    display: none;\n",
              "    fill: #1967D2;\n",
              "    height: 32px;\n",
              "    padding: 0 0 0 0;\n",
              "    width: 32px;\n",
              "  }\n",
              "\n",
              "  .colab-df-quickchart:hover {\n",
              "    background-color: #E2EBFA;\n",
              "    box-shadow: 0px 1px 2px rgba(60, 64, 67, 0.3), 0px 1px 3px 1px rgba(60, 64, 67, 0.15);\n",
              "    fill: #174EA6;\n",
              "  }\n",
              "\n",
              "  [theme=dark] .colab-df-quickchart {\n",
              "    background-color: #3B4455;\n",
              "    fill: #D2E3FC;\n",
              "  }\n",
              "\n",
              "  [theme=dark] .colab-df-quickchart:hover {\n",
              "    background-color: #434B5C;\n",
              "    box-shadow: 0px 1px 3px 1px rgba(0, 0, 0, 0.15);\n",
              "    filter: drop-shadow(0px 1px 2px rgba(0, 0, 0, 0.3));\n",
              "    fill: #FFFFFF;\n",
              "  }\n",
              "</style>\n",
              "\n",
              "    <script>\n",
              "      async function quickchart(key) {\n",
              "        const containerElement = document.querySelector('#' + key);\n",
              "        const charts = await google.colab.kernel.invokeFunction(\n",
              "            'suggestCharts', [key], {});\n",
              "      }\n",
              "    </script>\n",
              "\n",
              "      <script>\n",
              "\n",
              "function displayQuickchartButton(domScope) {\n",
              "  let quickchartButtonEl =\n",
              "    domScope.querySelector('#df-0b8368e7-06cd-4f38-b147-4d49d1b78876 button.colab-df-quickchart');\n",
              "  quickchartButtonEl.style.display =\n",
              "    google.colab.kernel.accessAllowed ? 'block' : 'none';\n",
              "}\n",
              "\n",
              "        displayQuickchartButton(document);\n",
              "      </script>\n",
              "      <style>\n",
              "    .colab-df-container {\n",
              "      display:flex;\n",
              "      flex-wrap:wrap;\n",
              "      gap: 12px;\n",
              "    }\n",
              "\n",
              "    .colab-df-convert {\n",
              "      background-color: #E8F0FE;\n",
              "      border: none;\n",
              "      border-radius: 50%;\n",
              "      cursor: pointer;\n",
              "      display: none;\n",
              "      fill: #1967D2;\n",
              "      height: 32px;\n",
              "      padding: 0 0 0 0;\n",
              "      width: 32px;\n",
              "    }\n",
              "\n",
              "    .colab-df-convert:hover {\n",
              "      background-color: #E2EBFA;\n",
              "      box-shadow: 0px 1px 2px rgba(60, 64, 67, 0.3), 0px 1px 3px 1px rgba(60, 64, 67, 0.15);\n",
              "      fill: #174EA6;\n",
              "    }\n",
              "\n",
              "    [theme=dark] .colab-df-convert {\n",
              "      background-color: #3B4455;\n",
              "      fill: #D2E3FC;\n",
              "    }\n",
              "\n",
              "    [theme=dark] .colab-df-convert:hover {\n",
              "      background-color: #434B5C;\n",
              "      box-shadow: 0px 1px 3px 1px rgba(0, 0, 0, 0.15);\n",
              "      filter: drop-shadow(0px 1px 2px rgba(0, 0, 0, 0.3));\n",
              "      fill: #FFFFFF;\n",
              "    }\n",
              "  </style>\n",
              "\n",
              "      <script>\n",
              "        const buttonEl =\n",
              "          document.querySelector('#df-25ec2fb5-7ea3-4161-8ae9-063d631e0df1 button.colab-df-convert');\n",
              "        buttonEl.style.display =\n",
              "          google.colab.kernel.accessAllowed ? 'block' : 'none';\n",
              "\n",
              "        async function convertToInteractive(key) {\n",
              "          const element = document.querySelector('#df-25ec2fb5-7ea3-4161-8ae9-063d631e0df1');\n",
              "          const dataTable =\n",
              "            await google.colab.kernel.invokeFunction('convertToInteractive',\n",
              "                                                     [key], {});\n",
              "          if (!dataTable) return;\n",
              "\n",
              "          const docLinkHtml = 'Like what you see? Visit the ' +\n",
              "            '<a target=\"_blank\" href=https://colab.research.google.com/notebooks/data_table.ipynb>data table notebook</a>'\n",
              "            + ' to learn more about interactive tables.';\n",
              "          element.innerHTML = '';\n",
              "          dataTable['output_type'] = 'display_data';\n",
              "          await google.colab.output.renderOutput(dataTable, element);\n",
              "          const docLink = document.createElement('div');\n",
              "          docLink.innerHTML = docLinkHtml;\n",
              "          element.appendChild(docLink);\n",
              "        }\n",
              "      </script>\n",
              "    </div>\n",
              "  </div>\n"
            ]
          },
          "metadata": {},
          "execution_count": 21
        }
      ]
    },
    {
      "cell_type": "code",
      "source": [
        "#Compare salaries of People working in UK vs Germany\n",
        "#Creating subsets of salaries\n",
        "salary_uk = data.loc[data.Country == 'United Kingdom'].Salary\n",
        "salary_germany = data.loc[data.Country == 'Germany'].Salary"
      ],
      "metadata": {
        "id": "3dFi9kETIPjw"
      },
      "execution_count": 22,
      "outputs": []
    },
    {
      "cell_type": "code",
      "source": [
        "#T-test\n",
        "sta, p_value = st.ttest_ind(a = salary_uk, b = salary_germany)\n",
        "print(p_value)\n",
        "if p_value > 0.05:\n",
        "  print('Fail to reject null hypothesis : Both countries have similar salaries')\n",
        "else:\n",
        "  print('Reject null hypothesis : Both countries have statistically different salaries')"
      ],
      "metadata": {
        "colab": {
          "base_uri": "https://localhost:8080/"
        },
        "id": "hC4oywfHJHqw",
        "outputId": "cdee4151-ca26-4670-99a8-f007a15b0024"
      },
      "execution_count": 23,
      "outputs": [
        {
          "output_type": "stream",
          "name": "stdout",
          "text": [
            "0.026389999555203502\n",
            "Reject null hypothesis : Both countries have statistically different salaries\n"
          ]
        }
      ]
    },
    {
      "cell_type": "code",
      "source": [
        "salary_uk.plot.density()"
      ],
      "metadata": {
        "colab": {
          "base_uri": "https://localhost:8080/",
          "height": 462
        },
        "id": "h0yNRmGOK2sZ",
        "outputId": "753de80e-e61f-425c-ef48-9ff293c5f1a3"
      },
      "execution_count": 24,
      "outputs": [
        {
          "output_type": "execute_result",
          "data": {
            "text/plain": [
              "<Axes: ylabel='Density'>"
            ]
          },
          "metadata": {},
          "execution_count": 24
        },
        {
          "output_type": "display_data",
          "data": {
            "text/plain": [
              "<Figure size 640x480 with 1 Axes>"
            ],
            "image/png": "[encoded data removed]"
          },
          "metadata": {}
        }
      ]
    },
    {
      "cell_type": "code",
      "source": [
        "salary_germany.plot.density()"
      ],
      "metadata": {
        "colab": {
          "base_uri": "https://localhost:8080/",
          "height": 462
        },
        "id": "PN9nLUgeMP2V",
        "outputId": "5eadc8a9-12a9-4d17-d0cc-f46cf56355d4"
      },
      "execution_count": 25,
      "outputs": [
        {
          "output_type": "execute_result",
          "data": {
            "text/plain": [
              "<Axes: ylabel='Density'>"
            ]
          },
          "metadata": {},
          "execution_count": 25
        },
        {
          "output_type": "display_data",
          "data": {
            "text/plain": [
              "<Figure size 640x480 with 1 Axes>"
            ],
            "image/png": "[encoded data removed]"
          },
          "metadata": {}
        }
      ]
    },
    {
      "cell_type": "code",
      "source": [
        "#Compare years of exp of People working in India vs United States\n",
        "#Creating subsets of Years of exp\n",
        "yexp_india = data.loc[data.Country == 'India'].YearsCodedJob\n",
        "yexp_us = data.loc[data.Country == 'United States'].YearsCodedJob"
      ],
      "metadata": {
        "id": "i66m8VI8MVXP"
      },
      "execution_count": 26,
      "outputs": []
    },
    {
      "cell_type": "code",
      "source": [
        "#T-test\n",
        "sta1, p_value1 = st.ttest_ind(a = yexp_india, b = yexp_us)\n",
        "print(p_value1)\n",
        "if p_value > 0.05:\n",
        "  print('Fail to reject null hypothesis : Both countries have similar years of exp')\n",
        "else:\n",
        "  print('Reject null hypothesis : Both countries have statistically different years of exp')"
      ],
      "metadata": {
        "colab": {
          "base_uri": "https://localhost:8080/"
        },
        "id": "3A4rENn-Oaxt",
        "outputId": "b49accef-fda2-495a-c1e0-3dcabaa5a253"
      },
      "execution_count": 27,
      "outputs": [
        {
          "output_type": "stream",
          "name": "stdout",
          "text": [
            "5.225676347614714e-58\n",
            "Reject null hypothesis : Both countries have statistically different years of exp\n"
          ]
        }
      ]
    },
    {
      "cell_type": "code",
      "source": [
        "yexp_india.plot.density()\n",
        "yexp_us.plot.density()"
      ],
      "metadata": {
        "colab": {
          "base_uri": "https://localhost:8080/",
          "height": 447
        },
        "id": "aCKzbfamO0fu",
        "outputId": "79c585c7-1aab-4f3b-8661-dfdb72e6d76f"
      },
      "execution_count": 28,
      "outputs": [
        {
          "output_type": "execute_result",
          "data": {
            "text/plain": [
              "<Axes: ylabel='Density'>"
            ]
          },
          "metadata": {},
          "execution_count": 28
        },
        {
          "output_type": "display_data",
          "data": {
            "text/plain": [
              "<Figure size 640x480 with 1 Axes>"
            ],
            "image/png": "[encoded data removed]"
          },
          "metadata": {}
        }
      ]
    },
    {
      "cell_type": "markdown",
      "source": [
        "# Chi-Square Test"
      ],
      "metadata": {
        "id": "8zJdTyhgXTf-"
      }
    },
    {
      "cell_type": "markdown",
      "source": [
        "The chi-square test calculates a **chi-square statistic based on the differences between your observed and expected counts** in a contingency table. Then, it compares this statistic to a critical chi-square value to determine **if the differences are significant**.\n",
        "\n",
        "In Layman's terms, imagine you're curious if there's a connection between two categorical variables, like the color of cars and their popularity. The chi-square test is like a detective tool that helps you figure out if these variables are related or if any relationship you see could just be due to chance.\n",
        "\n",
        "In the below example, we're implementing the Chi-square test in order to identify the relationship between countries and remote preferences."
      ],
      "metadata": {
        "id": "B2hoMz8z6q7T"
      }
    },
    {
      "cell_type": "code",
      "source": [
        "#Chi-Square Test to check relationship between countries and remote preferences\n",
        "tab = pd.crosstab(index = data.Country,columns=data.Remote)\n",
        "tab"
      ],
      "metadata": {
        "colab": {
          "base_uri": "https://localhost:8080/",
          "height": 237
        },
        "id": "FGP7Bl-PXWRu",
        "outputId": "ed4d3d3b-3cd9-48e9-eabd-b324dd442c2e"
      },
      "execution_count": 29,
      "outputs": [
        {
          "output_type": "execute_result",
          "data": {
            "text/plain": [
              "Remote          Not remote  Remote\n",
              "Country                           \n",
              "Canada                 457      28\n",
              "Germany                717      40\n",
              "India                  482      56\n",
              "United Kingdom         953      70\n",
              "United States         2410     381"
            ],
            "text/html": [
              "\n",
              "\n",
              "  <div id=\"df-bf7c773a-2cb7-40c2-9e8e-33d78d775d75\">\n",
              "    <div class=\"colab-df-container\">\n",
              "      <div>\n",
              "<style scoped>\n",
              "    .dataframe tbody tr th:only-of-type {\n",
              "        vertical-align: middle;\n",
              "    }\n",
              "\n",
              "    .dataframe tbody tr th {\n",
              "        vertical-align: top;\n",
              "    }\n",
              "\n",
              "    .dataframe thead th {\n",
              "        text-align: right;\n",
              "    }\n",
              "</style>\n",
              "<table border=\"1\" class=\"dataframe\">\n",
              "  <thead>\n",
              "    <tr style=\"text-align: right;\">\n",
              "      <th>Remote</th>\n",
              "      <th>Not remote</th>\n",
              "      <th>Remote</th>\n",
              "    </tr>\n",
              "    <tr>\n",
              "      <th>Country</th>\n",
              "      <th></th>\n",
              "      <th></th>\n",
              "    </tr>\n",
              "  </thead>\n",
              "  <tbody>\n",
              "    <tr>\n",
              "      <th>Canada</th>\n",
              "      <td>457</td>\n",
              "      <td>28</td>\n",
              "    </tr>\n",
              "    <tr>\n",
              "      <th>Germany</th>\n",
              "      <td>717</td>\n",
              "      <td>40</td>\n",
              "    </tr>\n",
              "    <tr>\n",
              "      <th>India</th>\n",
              "      <td>482</td>\n",
              "      <td>56</td>\n",
              "    </tr>\n",
              "    <tr>\n",
              "      <th>United Kingdom</th>\n",
              "      <td>953</td>\n",
              "      <td>70</td>\n",
              "    </tr>\n",
              "    <tr>\n",
              "      <th>United States</th>\n",
              "      <td>2410</td>\n",
              "      <td>381</td>\n",
              "    </tr>\n",
              "  </tbody>\n",
              "</table>\n",
              "</div>\n",
              "      <button class=\"colab-df-convert\" onclick=\"convertToInteractive('df-bf7c773a-2cb7-40c2-9e8e-33d78d775d75')\"\n",
              "              title=\"Convert this dataframe to an interactive table.\"\n",
              "              style=\"display:none;\">\n",
              "\n",
              "  <svg xmlns=\"http://www.w3.org/2000/svg\" height=\"24px\"viewBox=\"0 0 24 24\"\n",
              "       width=\"24px\">\n",
              "    <path d=\"M0 0h24v24H0V0z\" fill=\"none\"/>\n",
              "    <path d=\"M18.56 5.44l.94 2.06.94-2.06 2.06-.94-2.06-.94-.94-2.06-.94 2.06-2.06.94zm-11 1L8.5 8.5l.94-2.06 2.06-.94-2.06-.94L8.5 2.5l-.94 2.06-2.06.94zm10 10l.94 2.06.94-2.06 2.06-.94-2.06-.94-.94-2.06-.94 2.06-2.06.94z\"/><path d=\"M17.41 7.96l-1.37-1.37c-.4-.4-.92-.59-1.43-.59-.52 0-1.04.2-1.43.59L10.3 9.45l-7.72 7.72c-.78.78-.78 2.05 0 2.83L4 21.41c.39.39.9.59 1.41.59.51 0 1.02-.2 1.41-.59l7.78-7.78 2.81-2.81c.8-.78.8-2.07 0-2.86zM5.41 20L4 18.59l7.72-7.72 1.47 1.35L5.41 20z\"/>\n",
              "  </svg>\n",
              "      </button>\n",
              "\n",
              "\n",
              "\n",
              "    <div id=\"df-69cf4b52-3e28-4c13-b92c-fa3d604d9491\">\n",
              "      <button class=\"colab-df-quickchart\" onclick=\"quickchart('df-69cf4b52-3e28-4c13-b92c-fa3d604d9491')\"\n",
              "              title=\"Suggest charts.\"\n",
              "              style=\"display:none;\">\n",
              "\n",
              "<svg xmlns=\"http://www.w3.org/2000/svg\" height=\"24px\"viewBox=\"0 0 24 24\"\n",
              "     width=\"24px\">\n",
              "    <g>\n",
              "        <path d=\"M19 3H5c-1.1 0-2 .9-2 2v14c0 1.1.9 2 2 2h14c1.1 0 2-.9 2-2V5c0-1.1-.9-2-2-2zM9 17H7v-7h2v7zm4 0h-2V7h2v10zm4 0h-2v-4h2v4z\"/>\n",
              "    </g>\n",
              "</svg>\n",
              "      </button>\n",
              "    </div>\n",
              "\n",
              "<style>\n",
              "  .colab-df-quickchart {\n",
              "    background-color: #E8F0FE;\n",
              "    border: none;\n",
              "    border-radius: 50%;\n",
              "    cursor: pointer;\n",
              "    display: none;\n",
              "    fill: #1967D2;\n",
              "    height: 32px;\n",
              "    padding: 0 0 0 0;\n",
              "    width: 32px;\n",
              "  }\n",
              "\n",
              "  .colab-df-quickchart:hover {\n",
              "    background-color: #E2EBFA;\n",
              "    box-shadow: 0px 1px 2px rgba(60, 64, 67, 0.3), 0px 1px 3px 1px rgba(60, 64, 67, 0.15);\n",
              "    fill: #174EA6;\n",
              "  }\n",
              "\n",
              "  [theme=dark] .colab-df-quickchart {\n",
              "    background-color: #3B4455;\n",
              "    fill: #D2E3FC;\n",
              "  }\n",
              "\n",
              "  [theme=dark] .colab-df-quickchart:hover {\n",
              "    background-color: #434B5C;\n",
              "    box-shadow: 0px 1px 3px 1px rgba(0, 0, 0, 0.15);\n",
              "    filter: drop-shadow(0px 1px 2px rgba(0, 0, 0, 0.3));\n",
              "    fill: #FFFFFF;\n",
              "  }\n",
              "</style>\n",
              "\n",
              "    <script>\n",
              "      async function quickchart(key) {\n",
              "        const containerElement = document.querySelector('#' + key);\n",
              "        const charts = await google.colab.kernel.invokeFunction(\n",
              "            'suggestCharts', [key], {});\n",
              "      }\n",
              "    </script>\n",
              "\n",
              "      <script>\n",
              "\n",
              "function displayQuickchartButton(domScope) {\n",
              "  let quickchartButtonEl =\n",
              "    domScope.querySelector('#df-69cf4b52-3e28-4c13-b92c-fa3d604d9491 button.colab-df-quickchart');\n",
              "  quickchartButtonEl.style.display =\n",
              "    google.colab.kernel.accessAllowed ? 'block' : 'none';\n",
              "}\n",
              "\n",
              "        displayQuickchartButton(document);\n",
              "      </script>\n",
              "      <style>\n",
              "    .colab-df-container {\n",
              "      display:flex;\n",
              "      flex-wrap:wrap;\n",
              "      gap: 12px;\n",
              "    }\n",
              "\n",
              "    .colab-df-convert {\n",
              "      background-color: #E8F0FE;\n",
              "      border: none;\n",
              "      border-radius: 50%;\n",
              "      cursor: pointer;\n",
              "      display: none;\n",
              "      fill: #1967D2;\n",
              "      height: 32px;\n",
              "      padding: 0 0 0 0;\n",
              "      width: 32px;\n",
              "    }\n",
              "\n",
              "    .colab-df-convert:hover {\n",
              "      background-color: #E2EBFA;\n",
              "      box-shadow: 0px 1px 2px rgba(60, 64, 67, 0.3), 0px 1px 3px 1px rgba(60, 64, 67, 0.15);\n",
              "      fill: #174EA6;\n",
              "    }\n",
              "\n",
              "    [theme=dark] .colab-df-convert {\n",
              "      background-color: #3B4455;\n",
              "      fill: #D2E3FC;\n",
              "    }\n",
              "\n",
              "    [theme=dark] .colab-df-convert:hover {\n",
              "      background-color: #434B5C;\n",
              "      box-shadow: 0px 1px 3px 1px rgba(0, 0, 0, 0.15);\n",
              "      filter: drop-shadow(0px 1px 2px rgba(0, 0, 0, 0.3));\n",
              "      fill: #FFFFFF;\n",
              "    }\n",
              "  </style>\n",
              "\n",
              "      <script>\n",
              "        const buttonEl =\n",
              "          document.querySelector('#df-bf7c773a-2cb7-40c2-9e8e-33d78d775d75 button.colab-df-convert');\n",
              "        buttonEl.style.display =\n",
              "          google.colab.kernel.accessAllowed ? 'block' : 'none';\n",
              "\n",
              "        async function convertToInteractive(key) {\n",
              "          const element = document.querySelector('#df-bf7c773a-2cb7-40c2-9e8e-33d78d775d75');\n",
              "          const dataTable =\n",
              "            await google.colab.kernel.invokeFunction('convertToInteractive',\n",
              "                                                     [key], {});\n",
              "          if (!dataTable) return;\n",
              "\n",
              "          const docLinkHtml = 'Like what you see? Visit the ' +\n",
              "            '<a target=\"_blank\" href=https://colab.research.google.com/notebooks/data_table.ipynb>data table notebook</a>'\n",
              "            + ' to learn more about interactive tables.';\n",
              "          element.innerHTML = '';\n",
              "          dataTable['output_type'] = 'display_data';\n",
              "          await google.colab.output.renderOutput(dataTable, element);\n",
              "          const docLink = document.createElement('div');\n",
              "          docLink.innerHTML = docLinkHtml;\n",
              "          element.appendChild(docLink);\n",
              "        }\n",
              "      </script>\n",
              "    </div>\n",
              "  </div>\n"
            ]
          },
          "metadata": {},
          "execution_count": 29
        }
      ]
    },
    {
      "cell_type": "code",
      "source": [
        "st.chi2_contingency(tab).pvalue"
      ],
      "metadata": {
        "colab": {
          "base_uri": "https://localhost:8080/"
        },
        "id": "5bvXP3IeXsrn",
        "outputId": "6c460e53-d408-47de-c507-ea66ffb1c9bb"
      },
      "execution_count": 30,
      "outputs": [
        {
          "output_type": "execute_result",
          "data": {
            "text/plain": [
              "3.321120877301216e-16"
            ]
          },
          "metadata": {},
          "execution_count": 30
        }
      ]
    },
    {
      "cell_type": "code",
      "source": [
        "if st.chi2_contingency(tab).pvalue > 0.05:\n",
        "  print('No relationship (Failed to reject Null Hypothesis)')\n",
        "else:\n",
        "  print('There is a relationship (Reject Null Hypothesis)')"
      ],
      "metadata": {
        "colab": {
          "base_uri": "https://localhost:8080/"
        },
        "id": "xiCTnZq9XxTr",
        "outputId": "00282b03-8af5-46b4-b4aa-ad10713dcf37"
      },
      "execution_count": 31,
      "outputs": [
        {
          "output_type": "stream",
          "name": "stdout",
          "text": [
            "There is a relationship (Reject Null Hypothesis)\n"
          ]
        }
      ]
    }
  ]
}